{
 "cells": [
  {
   "cell_type": "code",
   "execution_count": null,
   "id": "6a57e1f8-2e8d-4ada-b7a1-815ecc14fc15",
   "metadata": {},
   "outputs": [
    {
     "name": "stderr",
     "output_type": "stream",
     "text": [
      "I0000 00:00:1737278903.370960 5756572 gl_context.cc:369] GL version: 2.1 (2.1 Metal - 89.3), renderer: Apple M3\n",
      "W0000 00:00:1737278903.478884 5757860 inference_feedback_manager.cc:114] Feedback manager requires a model with a single signature inference. Disabling support for feedback tensors.\n",
      "W0000 00:00:1737278903.522395 5757863 inference_feedback_manager.cc:114] Feedback manager requires a model with a single signature inference. Disabling support for feedback tensors.\n"
     ]
    },
    {
     "name": "stdout",
     "output_type": "stream",
     "text": [
      "1.0\n"
     ]
    },
    {
     "data": {
      "text/plain": [
       "['knn_model.pkl']"
      ]
     },
     "execution_count": 3,
     "metadata": {},
     "output_type": "execute_result"
    }
   ],
   "source": [
    "import mediapipe as mp\n",
    "import pandas as pd\n",
    "from mediapipe.tasks import python\n",
    "from mediapipe.tasks.python import vision\n",
    "from sklearn.neighbors import KNeighborsClassifier\n",
    "from sklearn.model_selection import train_test_split\n",
    "from sklearn.metrics import accuracy_score\n",
    "import joblib\n",
    "import numpy as np\n",
    "\n",
    "# create a PoseLandmarker object.\n",
    "base_options = python.BaseOptions(model_asset_path='pose_landmarker.task')\n",
    "options = vision.PoseLandmarkerOptions(\n",
    "    base_options=base_options,\n",
    "    output_segmentation_masks=True)\n",
    "detector = vision.PoseLandmarker.create_from_options(options)\n",
    "\n",
    "poses = ['one', 'zero', 'neut', 'plus']\n",
    "\n",
    "dataframes = []\n",
    "labels = []\n",
    "\n",
    "for pose in poses:\n",
    "    for i in range(1, 11):\n",
    "        file_path = \"./images/\" + pose + \"_\" + str(i) + \".jpg\"\n",
    "        labels.append(pose)\n",
    "        # Load the input image and detect pose landmarks from the input image.\n",
    "        image = mp.Image.create_from_file(file_path)\n",
    "        detection_result = detector.detect(image)\n",
    "        \n",
    "        pose_landmarks = detection_result.pose_landmarks\n",
    "        nose_landmark = pose_landmarks[0][0]\n",
    "        x_shift, y_shift, z_shift = nose_landmark.x, nose_landmark.y, nose_landmark.z\n",
    "        \n",
    "        data = []\n",
    "        df = pd.DataFrame(data, columns=['x', 'y', 'z'])\n",
    "        \n",
    "        for landmarks in pose_landmarks:\n",
    "            for landmark in landmarks:\n",
    "                # Access the x, y, and z coordinates of each landmark\n",
    "                landmark.x -= x_shift\n",
    "                landmark.y -= y_shift\n",
    "                landmark.z -= z_shift\n",
    "        \n",
    "                new_row = [landmark.x, landmark.y, landmark.z]\n",
    "                df.loc[len(df)] = new_row\n",
    "        \n",
    "        dataframes.append(df)\n",
    "\n",
    "# flatten each dataframe (3 columns -> 1 long vector per row)\n",
    "flattened_data = [df[['x', 'y', 'z']].values.flatten() for df in dataframes]\n",
    "\n",
    "# prepare the data (flattened_data as features, labels as target)\n",
    "X = np.array(flattened_data)  # Features\n",
    "y = np.array(labels)  # Labels\n",
    "\n",
    "# split the data into training and testing sets\n",
    "X_train, X_test, y_train, y_test = train_test_split(X, y, test_size=0.2, random_state=42)\n",
    "\n",
    "# initialize the model\n",
    "knn = KNeighborsClassifier(n_neighbors=3)\n",
    "\n",
    "# fit the model on the training data\n",
    "knn.fit(X_train, y_train)\n",
    "\n",
    "# test\n",
    "y_pred = knn.predict(X_test)\n",
    "accuracy = accuracy_score(y_test, y_pred)\n",
    "print(accuracy)\n",
    "\n",
    "joblib.dump(knn, 'knn_model.pkl')"
   ]
  },
  {
   "cell_type": "code",
   "execution_count": null,
   "id": "5b7a9c6a-f0f3-44b0-bbc7-d5576bb698c8",
   "metadata": {},
   "outputs": [],
   "source": []
  }
 ],
 "metadata": {
  "kernelspec": {
   "display_name": "base",
   "language": "python",
   "name": "python3"
  },
  "language_info": {
   "codemirror_mode": {
    "name": "ipython",
    "version": 3
   },
   "file_extension": ".py",
   "mimetype": "text/x-python",
   "name": "python",
   "nbconvert_exporter": "python",
   "pygments_lexer": "ipython3",
   "version": "3.12.7"
  }
 },
 "nbformat": 4,
 "nbformat_minor": 5
}
